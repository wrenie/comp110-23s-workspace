{
 "cells": [
  {
   "attachments": {},
   "cell_type": "markdown",
   "metadata": {},
   "source": [
    "# Demonstrate more functionality with data in Jupyter"
   ]
  },
  {
   "attachments": {},
   "cell_type": "markdown",
   "metadata": {},
   "source": [
    "## Import old data from last lesson\n"
   ]
  },
  {
   "cell_type": "code",
   "execution_count": 11,
   "metadata": {},
   "outputs": [
    {
     "data": {
      "text/plain": [
       "[{'day': 'monday', 'low': '56', 'high': '75'},\n",
       " {'day': 'tuesday', 'low': '53', 'high': '72'},\n",
       " {'day': 'wednesday', 'low': '50', 'high': '72'}]"
      ]
     },
     "execution_count": 11,
     "metadata": {},
     "output_type": "execute_result"
    }
   ],
   "source": [
    "from weather_utils import read_csv_rows\n",
    "\n",
    "filename: str = \"../data/weather.csv\"\n",
    "data: list[dict[str,str]] = read_csv_rows(filename)\n",
    "data"
   ]
  },
  {
   "attachments": {},
   "cell_type": "markdown",
   "metadata": {},
   "source": [
    "## Data in column oriented format"
   ]
  },
  {
   "cell_type": "code",
   "execution_count": 12,
   "metadata": {},
   "outputs": [
    {
     "data": {
      "text/plain": [
       "{'day': ['monday', 'tuesday', 'wednesday'],\n",
       " 'low': ['56', '53', '50'],\n",
       " 'high': ['75', '72', '72']}"
      ]
     },
     "execution_count": 12,
     "metadata": {},
     "output_type": "execute_result"
    }
   ],
   "source": [
    "from weather_utils import columnar\n",
    "\n",
    "column_data: dict[str,list[str]] = columnar(data)\n",
    "column_data"
   ]
  },
  {
   "attachments": {},
   "cell_type": "markdown",
   "metadata": {},
   "source": [
    "## Printing data"
   ]
  },
  {
   "cell_type": "code",
   "execution_count": 13,
   "metadata": {},
   "outputs": [
    {
     "data": {
      "text/html": [
       "<table>\n",
       "<thead>\n",
       "<tr><th>day      </th><th style=\"text-align: right;\">  low</th><th style=\"text-align: right;\">  high</th></tr>\n",
       "</thead>\n",
       "<tbody>\n",
       "<tr><td>monday   </td><td style=\"text-align: right;\">   56</td><td style=\"text-align: right;\">    75</td></tr>\n",
       "<tr><td>tuesday  </td><td style=\"text-align: right;\">   53</td><td style=\"text-align: right;\">    72</td></tr>\n",
       "<tr><td>wednesday</td><td style=\"text-align: right;\">   50</td><td style=\"text-align: right;\">    72</td></tr>\n",
       "</tbody>\n",
       "</table>"
      ],
      "text/plain": [
       "'<table>\\n<thead>\\n<tr><th>day      </th><th style=\"text-align: right;\">  low</th><th style=\"text-align: right;\">  high</th></tr>\\n</thead>\\n<tbody>\\n<tr><td>monday   </td><td style=\"text-align: right;\">   56</td><td style=\"text-align: right;\">    75</td></tr>\\n<tr><td>tuesday  </td><td style=\"text-align: right;\">   53</td><td style=\"text-align: right;\">    72</td></tr>\\n<tr><td>wednesday</td><td style=\"text-align: right;\">   50</td><td style=\"text-align: right;\">    72</td></tr>\\n</tbody>\\n</table>'"
      ]
     },
     "execution_count": 13,
     "metadata": {},
     "output_type": "execute_result"
    }
   ],
   "source": [
    "from tabulate import tabulate\n",
    "\n",
    "tabulate(column_data, column_data.keys(), 'html')"
   ]
  },
  {
   "attachments": {},
   "cell_type": "markdown",
   "metadata": {},
   "source": [
    "## Get table of just monday and tuesday data"
   ]
  },
  {
   "cell_type": "code",
   "execution_count": 16,
   "metadata": {},
   "outputs": [
    {
     "data": {
      "text/html": [
       "<table>\n",
       "<thead>\n",
       "<tr><th>day    </th><th style=\"text-align: right;\">  low</th><th style=\"text-align: right;\">  high</th></tr>\n",
       "</thead>\n",
       "<tbody>\n",
       "<tr><td>monday </td><td style=\"text-align: right;\">   56</td><td style=\"text-align: right;\">    75</td></tr>\n",
       "<tr><td>tuesday</td><td style=\"text-align: right;\">   53</td><td style=\"text-align: right;\">    72</td></tr>\n",
       "</tbody>\n",
       "</table>"
      ],
      "text/plain": [
       "'<table>\\n<thead>\\n<tr><th>day    </th><th style=\"text-align: right;\">  low</th><th style=\"text-align: right;\">  high</th></tr>\\n</thead>\\n<tbody>\\n<tr><td>monday </td><td style=\"text-align: right;\">   56</td><td style=\"text-align: right;\">    75</td></tr>\\n<tr><td>tuesday</td><td style=\"text-align: right;\">   53</td><td style=\"text-align: right;\">    72</td></tr>\\n</tbody>\\n</table>'"
      ]
     },
     "execution_count": 16,
     "metadata": {},
     "output_type": "execute_result"
    }
   ],
   "source": [
    "smaller_data_set: dict[str, list[str]] = {}\n",
    "\n",
    "for key in column_data:\n",
    "    # make an entry with key as key and first 2 elements of list as values\n",
    "    sub_list: list[str] = []\n",
    "    get_data: list[str] = column_data[key]\n",
    "    idx: int = 0\n",
    "    while idx < 2:\n",
    "        sub_list.append(get_data[idx])\n",
    "        idx += 1\n",
    "    smaller_data_set[key] = sub_list\n",
    "\n",
    "tabulate(smaller_data_set, smaller_data_set.keys(), 'html')"
   ]
  }
 ],
 "metadata": {
  "kernelspec": {
   "display_name": "Python 3",
   "language": "python",
   "name": "python3"
  },
  "language_info": {
   "codemirror_mode": {
    "name": "ipython",
    "version": 3
   },
   "file_extension": ".py",
   "mimetype": "text/x-python",
   "name": "python",
   "nbconvert_exporter": "python",
   "pygments_lexer": "ipython3",
   "version": "3.11.1"
  },
  "orig_nbformat": 4
 },
 "nbformat": 4,
 "nbformat_minor": 2
}
