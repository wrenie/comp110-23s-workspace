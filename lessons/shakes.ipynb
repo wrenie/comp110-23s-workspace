{
 "cells": [
  {
   "attachments": {},
   "cell_type": "markdown",
   "metadata": {},
   "source": [
    "# Quantifying Shakespeare\n",
    "Analyzing the frequencies of different letters in Shakespeare's work.\n",
    "\n",
    "Data from: bit.ly/shakespeare-txt\n",
    "\n",
    "We will:\n",
    "1. Read all of Shakespeare's works into a list of strings\n",
    "2. Count the frequencies of each letter used\n",
    "3. Visualize the frequencies with a bar graph"
   ]
  },
  {
   "attachments": {},
   "cell_type": "markdown",
   "metadata": {},
   "source": [
    "## Read lines of the data\n"
   ]
  },
  {
   "cell_type": "code",
   "execution_count": 16,
   "metadata": {},
   "outputs": [
    {
     "name": "stdout",
     "output_type": "stream",
     "text": [
      "124456\n"
     ]
    }
   ],
   "source": [
    "from io import TextIOWrapper\n",
    "\n",
    "def read_lines(filename: str) -> list[str]:\n",
    "    \"\"\"Read .txt file and save each line as a string and save as list.\"\"\"\n",
    "    lines: list[str] = []\n",
    "    file_handle = open(filename, \"r\")\n",
    "    for line in file_handle:\n",
    "        # strip leading and trailing whitespace \"       a dog  \" -> \"a dog\"\n",
    "        line = line.strip()\n",
    "        # make all letters lowercase\n",
    "        line = line.lower()\n",
    "        lines.append(line)\n",
    "    file_handle.close()\n",
    "    return lines\n",
    "\n",
    "shakes_lines: list[str] = read_lines(\"../data/t8.shakespeare.txt\")\n",
    "print(len(shakes_lines))"
   ]
  },
  {
   "attachments": {},
   "cell_type": "markdown",
   "metadata": {},
   "source": [
    "## Tally function"
   ]
  },
  {
   "cell_type": "code",
   "execution_count": 17,
   "metadata": {},
   "outputs": [],
   "source": [
    "def tally(counts: dict[str, int], key: str) -> None:\n",
    "    \"\"\"Mutate counts by increasing the value stored at key by 1.\"\"\"\n",
    "    if key in counts:\n",
    "        counts[key] += 1\n",
    "    else:\n",
    "        counts[key] = 1"
   ]
  },
  {
   "cell_type": "code",
   "execution_count": 18,
   "metadata": {},
   "outputs": [
    {
     "name": "stdout",
     "output_type": "stream",
     "text": [
      "{'a': 1}\n",
      "{'a': 1, 'b': 1}\n"
     ]
    }
   ],
   "source": [
    "merr_webb: dict[str, int] ={}\n",
    "tally(merr_webb, \"a\")\n",
    "print(merr_webb)\n",
    "tally(merr_webb, \"b\")\n",
    "print(merr_webb)"
   ]
  },
  {
   "attachments": {},
   "cell_type": "markdown",
   "metadata": {},
   "source": [
    "## Count Letters Function"
   ]
  },
  {
   "cell_type": "code",
   "execution_count": 22,
   "metadata": {},
   "outputs": [],
   "source": [
    "def count_letters(lines: list[str]) -> dict[str, int]:\n",
    "    \"\"\"Tallies ONLY letters not punctuation or numbers.\"\"\"\n",
    "    counts: dict[str,int] = {}\n",
    "    for elem in lines: # elem is a string\n",
    "        for char in range(0, len(elem)): \n",
    "            if elem[char].isalpha() is True:\n",
    "                tally(counts, elem[char])\n",
    "    return counts\n",
    "\n",
    "\n",
    "shakes_letters: dict[str,int] = count_letters(shakes_lines)"
   ]
  },
  {
   "attachments": {},
   "cell_type": "markdown",
   "metadata": {},
   "source": [
    "## Sorting in Lists and Dictionaries"
   ]
  },
  {
   "cell_type": "code",
   "execution_count": 23,
   "metadata": {},
   "outputs": [
    {
     "name": "stdout",
     "output_type": "stream",
     "text": [
      "{'t': 329775, 'h': 236868, 'i': 253990, 's': 248989, 'e': 447204, 'x': 5294, 'f': 80516, 'l': 170019, 'p': 58464, 'r': 237864, 'n': 243262, 'd': 149462, 'b': 61956, 'y': 94370, 'o': 314600, 'j': 4779, 'c': 88185, 'g': 68199, 'u': 128947, 'a': 289150, 'w': 89390, 'm': 111452, 'k': 35408, 'v': 37569, 'z': 1631, 'q': 3582}\n"
     ]
    },
    {
     "data": {
      "text/plain": [
       "{'a': 289150,\n",
       " 'b': 61956,\n",
       " 'c': 88185,\n",
       " 'd': 149462,\n",
       " 'e': 447204,\n",
       " 'f': 80516,\n",
       " 'g': 68199,\n",
       " 'h': 236868,\n",
       " 'i': 253990,\n",
       " 'j': 4779,\n",
       " 'k': 35408,\n",
       " 'l': 170019,\n",
       " 'm': 111452,\n",
       " 'n': 243262,\n",
       " 'o': 314600,\n",
       " 'p': 58464,\n",
       " 'q': 3582,\n",
       " 'r': 237864,\n",
       " 's': 248989,\n",
       " 't': 329775,\n",
       " 'u': 128947,\n",
       " 'v': 37569,\n",
       " 'w': 89390,\n",
       " 'x': 5294,\n",
       " 'y': 94370,\n",
       " 'z': 1631}"
      ]
     },
     "execution_count": 23,
     "metadata": {},
     "output_type": "execute_result"
    }
   ],
   "source": [
    "# Get list of items of a dictionary\n",
    "print(shakes_letters)\n",
    "shakes_letters_list = list(shakes_letters.items())\n",
    "# print(shakes_letters_list)\n",
    "shakes_letters_list = sorted(shakes_letters_list)\n",
    "# print(shakes_letters_list)\n",
    "shakes_letters_sorted = dict(shakes_letters_list)\n",
    "shakes_letters_sorted"
   ]
  },
  {
   "attachments": {},
   "cell_type": "markdown",
   "metadata": {},
   "source": [
    "## Visualize Data in Bar Graph"
   ]
  },
  {
   "cell_type": "code",
   "execution_count": 24,
   "metadata": {},
   "outputs": [
    {
     "data": {
      "text/plain": [
       "<BarContainer object of 26 artists>"
      ]
     },
     "execution_count": 24,
     "metadata": {},
     "output_type": "execute_result"
    },
    {
     "data": {
      "image/png": "[encoded data removed]",
      "text/plain": [
       "<Figure size 640x480 with 1 Axes>"
      ]
     },
     "metadata": {},
     "output_type": "display_data"
    }
   ],
   "source": [
    "from matplotlib import pyplot\n",
    "\n",
    "pyplot.title(\"Letter Frequencies\")\n",
    "pyplot.xlabel(\"Letters\")\n",
    "pyplot.ylabel(\"Count\")\n",
    "\n",
    "x_values: list[str] = shakes_letters_sorted.keys()  # letters of dict\n",
    "y_values: list[str] = shakes_letters_sorted.values()  # letter counts\n",
    "\n",
    "pyplot.bar(x_values, y_values)"
   ]
  }
 ],
 "metadata": {
  "kernelspec": {
   "display_name": "Python 3",
   "language": "python",
   "name": "python3"
  },
  "language_info": {
   "codemirror_mode": {
    "name": "ipython",
    "version": 3
   },
   "file_extension": ".py",
   "mimetype": "text/x-python",
   "name": "python",
   "nbconvert_exporter": "python",
   "pygments_lexer": "ipython3",
   "version": "3.11.1"
  },
  "orig_nbformat": 4
 },
 "nbformat": 4,
 "nbformat_minor": 2
}
