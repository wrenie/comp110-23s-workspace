{
 "cells": [
  {
   "attachments": {},
   "cell_type": "markdown",
   "metadata": {},
   "source": [
    "# Quantifying Shakespeare\n",
    "Analyzing the frequencies of different letters in Shakespeare's work.\n",
    "\n",
    "Data from: bit.ly/shakespeare-txt\n",
    "\n",
    "We will:\n",
    "1. Read all of Shakespeare's works into a list of strings\n",
    "2. Count the frequencies of each letter used\n",
    "3. Visualize the frequencies with a bar graph"
   ]
  },
  {
   "attachments": {},
   "cell_type": "markdown",
   "metadata": {},
   "source": [
    "## Read lines of the data\n"
   ]
  },
  {
   "cell_type": "code",
   "execution_count": 1,
   "metadata": {},
   "outputs": [
    {
     "name": "stdout",
     "output_type": "stream",
     "text": [
      "124456\n"
     ]
    }
   ],
   "source": [
    "from io import TextIOWrapper\n",
    "\n",
    "def read_lines(filename: str) -> list[str]:\n",
    "    \"\"\"Read .txt file and save each line as a string and save as list.\"\"\"\n",
    "    lines: list[str] = []\n",
    "    file_handle = open(filename, \"r\")\n",
    "    for line in file_handle:\n",
    "        # strip leading and trailing whitespace \"       a dog  \" -> \"a dog\"\n",
    "        line = line.strip()\n",
    "        # make all letters lowercase\n",
    "        line = line.lower()\n",
    "        lines.append(line)\n",
    "    file_handle.close()\n",
    "    return lines\n",
    "\n",
    "shakes_lines: list[str] = read_lines(\"../data/t8.shakespeare.txt\")\n",
    "print(len(shakes_lines))"
   ]
  }
 ],
 "metadata": {
  "kernelspec": {
   "display_name": "Python 3",
   "language": "python",
   "name": "python3"
  },
  "language_info": {
   "codemirror_mode": {
    "name": "ipython",
    "version": 3
   },
   "file_extension": ".py",
   "mimetype": "text/x-python",
   "name": "python",
   "nbconvert_exporter": "python",
   "pygments_lexer": "ipython3",
   "version": "3.11.1"
  },
  "orig_nbformat": 4
 },
 "nbformat": 4,
 "nbformat_minor": 2
}
